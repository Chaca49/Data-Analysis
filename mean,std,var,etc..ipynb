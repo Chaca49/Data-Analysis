{
  "metadata": {
    "kernelspec": {
      "name": "python",
      "display_name": "Python (Pyodide)",
      "language": "python"
    },
    "language_info": {
      "codemirror_mode": {
        "name": "python",
        "version": 3
      },
      "file_extension": ".py",
      "mimetype": "text/x-python",
      "name": "python",
      "nbconvert_exporter": "python",
      "pygments_lexer": "ipython3",
      "version": "3.8"
    }
  },
  "nbformat_minor": 4,
  "nbformat": 4,
  "cells": [
    {
      "cell_type": "code",
      "source": "import numpy as np\nimport pandas as pd\n",
      "metadata": {
        "trusted": true
      },
      "outputs": [],
      "execution_count": 1
    },
    {
      "cell_type": "code",
      "source": "def calculate(list):\n    try:\n        num_array= np.array(list).reshape(3,3)\n    #Calculate mean forr columuns, rows and matrix\n    \n        mean_col = num_array.mean(axis=1).tolist()\n        mean_row = num_array.mean(axis=0).tolist()\n        mean= num_array.mean()\n    #Calculate variance for columns,rows and matrix\n        var_col = num_array.var(axis=1).tolist()\n        var_row = num_array.var(axis=0).tolist()\n        var= num_array.var()\n    #Calculate desviation standard for col,rows,and matrix\n        std_col = num_array.std(axis=1).tolist()\n        std_row = num_array.std(axis=0).tolist()\n        std = num_array.std()\n    #Maximun\n        max_col = num_array.max(axis=1).tolist()\n        max_row = num_array.max(axis=0).tolist()\n        maximun = num_array.max()\n        #Minimun\n        min_col = num_array.min(axis=1).tolist()\n        min_row = num_array.min(axis=0).tolist()\n        minimun = num_array.min()\n        #Sumas\n        sum_col = num_array.sum(axis=1).tolist()\n        sum_row = num_array.sum(axis=0).tolist()\n        suma= num_array.flatten().sum()\n    \n        calculation = {\"mean:\": [mean_row,mean_col,mean],\n                        \"variace:\": [var_row,var_col,var],\n                        \"stardard deviation\" : [std_row,std_col,std],\n                       \"max:\": [max_row,max_col,maximun],\n                       \"min\": [min_row,min_col, minimun],\n                       \"sum\": [sum_col,sum_row,suma]\n                      }\n        return calculation\n    except ValueError:\n        print('List must contain nine numbers.')",
      "metadata": {
        "trusted": true
      },
      "outputs": [],
      "execution_count": 5
    },
    {
      "cell_type": "code",
      "source": "calculate([5,8,7,8,5,12,45,44,78])",
      "metadata": {
        "trusted": true
      },
      "outputs": [
        {
          "execution_count": 7,
          "output_type": "execute_result",
          "data": {
            "text/plain": "{'mean:': [[19.333333333333332, 19.0, 32.333333333333336],\n  [6.666666666666667, 8.333333333333334, 55.666666666666664],\n  23.555555555555557],\n 'variace:': [[330.88888888888886, 314.0, 1046.888888888889],\n  [1.5555555555555554, 8.222222222222221, 249.55555555555557],\n  602.4691358024692],\n 'stardard deviation': [[18.190351532856337,\n   17.72004514666935,\n   32.355662392986005],\n  [1.247219128924647, 2.8674417556808756, 15.797327481430381],\n  24.54524670486058],\n 'max:': [[45, 44, 78], [8, 12, 78], 78],\n 'min': [[5, 5, 7], [5, 5, 44], 5],\n 'sum': [[20, 25, 167], [58, 57, 97], 212]}"
          },
          "metadata": {}
        }
      ],
      "execution_count": 7
    },
    {
      "cell_type": "code",
      "source": "",
      "metadata": {
        "trusted": true
      },
      "outputs": [],
      "execution_count": null
    }
  ]
}